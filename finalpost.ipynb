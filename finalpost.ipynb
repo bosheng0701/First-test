{
  "nbformat": 4,
  "nbformat_minor": 0,
  "metadata": {
    "colab": {
      "name": "Untitled0.ipynb",
      "provenance": [],
      "collapsed_sections": [],
      "include_colab_link": true
    },
    "kernelspec": {
      "name": "python3",
      "display_name": "Python 3"
    }
  },
  "cells": [
    {
      "cell_type": "markdown",
      "metadata": {
        "id": "view-in-github",
        "colab_type": "text"
      },
      "source": [
        "<a href=\"https://colab.research.google.com/github/bosheng0701/First-test/blob/master/finalpost.ipynb\" target=\"_parent\"><img src=\"https://colab.research.google.com/assets/colab-badge.svg\" alt=\"Open In Colab\"/></a>"
      ]
    },
    {
      "cell_type": "code",
      "metadata": {
        "id": "ELoEgR7tdFWN",
        "colab_type": "code",
        "colab": {}
      },
      "source": [
        "%matplotlib inline\n",
        "import pandas as pd\n",
        "import matplotlib.pyplot as plt\n",
        "a=pd.read_csv('RODS_EnteroviralInfection-a.csv')\n",
        "b=pd.read_csv('NHI_EnteroviralInfection-b.csv')\n",
        "c=pd.read_csv('RODS_HandFootMouthDisease-c.csv')\n",
        "d=pd.read_csv('RODS_Herpangina-d.csv')\n",
        "e=pd.read_csv('NHI_HandFootMouthDisease-e.csv')\n"
      ],
      "execution_count": 0,
      "outputs": []
    },
    {
      "cell_type": "markdown",
      "metadata": {
        "id": "EkHSwQznXoZL",
        "colab_type": "text"
      },
      "source": [
        ""
      ]
    },
    {
      "cell_type": "code",
      "metadata": {
        "id": "3caKAY4CKFiL",
        "colab_type": "code",
        "colab": {
          "base_uri": "https://localhost:8080/",
          "height": 252
        },
        "outputId": "f4ada154-e7c1-4bd3-e920-7ca196fd5759"
      },
      "source": [
        "bData=pd.DataFrame(b)\n",
        "print (bData)"
      ],
      "execution_count": 17,
      "outputs": [
        {
          "output_type": "stream",
          "text": [
            "           年   週 就診類別  年齡別   縣市  腸病毒健保就診人次  健保就診總人次\n",
            "0       2008  14   住院  0-2  台中市          0      105\n",
            "1       2008  14   住院  0-2  台北市          2      151\n",
            "2       2008  14   住院  0-2  台東縣          0       14\n",
            "3       2008  14   住院  0-2  台南市          0       20\n",
            "4       2008  14   住院  0-2  宜蘭縣          0       44\n",
            "...      ...  ..  ...  ...  ...        ...      ...\n",
            "130143  2020   1   門診  5-9  新竹縣         48     7904\n",
            "130144  2020   1   門診  5-9  嘉義市         29     4590\n",
            "130145  2020   1   門診  5-9  嘉義縣          6     3161\n",
            "130146  2020   1   門診  5-9  彰化縣         87    14949\n",
            "130147  2020   1   門診  5-9  澎湖縣          5      949\n",
            "\n",
            "[130148 rows x 7 columns]\n"
          ],
          "name": "stdout"
        }
      ]
    },
    {
      "cell_type": "code",
      "metadata": {
        "id": "EPAEgh9vESbJ",
        "colab_type": "code",
        "colab": {
          "base_uri": "https://localhost:8080/",
          "height": 1000
        },
        "outputId": "5d7b0306-b7cf-4bc2-926e-dc50a3972b6a"
      },
      "source": [
        "bData=pd.DataFrame(b)\n",
        "bData.年齡別.sort_values(ascending=[True])\n",
        "for i in range(100):\n",
        "  print(bData.loc[i][3])\n"
      ],
      "execution_count": 47,
      "outputs": [
        {
          "output_type": "stream",
          "text": [
            "0-2\n",
            "0-2\n",
            "0-2\n",
            "0-2\n",
            "0-2\n",
            "0-2\n",
            "0-2\n",
            "0-2\n",
            "0-2\n",
            "0-2\n",
            "0-2\n",
            "0-2\n",
            "0-2\n",
            "0-2\n",
            "0-2\n",
            "0-2\n",
            "0-2\n",
            "0-2\n",
            "0-2\n",
            "10-14\n",
            "10-14\n",
            "10-14\n",
            "10-14\n",
            "10-14\n",
            "10-14\n",
            "10-14\n",
            "10-14\n",
            "10-14\n",
            "10-14\n",
            "10-14\n",
            "10-14\n",
            "10-14\n",
            "10-14\n",
            "10-14\n",
            "10-14\n",
            "10-14\n",
            "10-14\n",
            "10-14\n",
            "10-14\n",
            "15+\n",
            "15+\n",
            "15+\n",
            "15+\n",
            "15+\n",
            "15+\n",
            "15+\n",
            "15+\n",
            "15+\n",
            "15+\n",
            "15+\n",
            "15+\n",
            "15+\n",
            "15+\n",
            "15+\n",
            "15+\n",
            "15+\n",
            "15+\n",
            "15+\n",
            "15+\n",
            "15+\n",
            "15+\n",
            "3-4\n",
            "3-4\n",
            "3-4\n",
            "3-4\n",
            "3-4\n",
            "3-4\n",
            "3-4\n",
            "3-4\n",
            "3-4\n",
            "3-4\n",
            "3-4\n",
            "3-4\n",
            "3-4\n",
            "3-4\n",
            "3-4\n",
            "3-4\n",
            "3-4\n",
            "3-4\n",
            "3-4\n",
            "5-9\n",
            "5-9\n",
            "5-9\n",
            "5-9\n",
            "5-9\n",
            "5-9\n",
            "5-9\n",
            "5-9\n",
            "5-9\n",
            "5-9\n",
            "5-9\n",
            "5-9\n",
            "5-9\n",
            "5-9\n",
            "5-9\n",
            "5-9\n",
            "5-9\n",
            "5-9\n",
            "5-9\n",
            "5-9\n"
          ],
          "name": "stdout"
        }
      ]
    },
    {
      "cell_type": "code",
      "metadata": {
        "id": "FEf0TiKjXpUq",
        "colab_type": "code",
        "outputId": "7814b40b-3c81-414b-ec52-1af5d01f7c2b",
        "colab": {
          "base_uri": "https://localhost:8080/",
          "height": 295
        }
      },
      "source": [
        "temper1 = [32.1, 33.5, 33.6, 33.7, 34.9, 34.9, 35, 35.1, 35.5, 36.3, 36.4, 36.5, 36.5, 36.4, 36.3]\n",
        "temper2 = [25.1, 25.5, 25.6, 25.6, 26.2, 26.3, 26, 26.1, 25.5, 25.3, 25.4, 25.2, 25.1, 25, 24.5]\n",
        "plt.title(\"Temperature: June vs. March\")\n",
        "plt.xlabel(\"Measurement\")\n",
        "plt.ylabel(\"degree\")\n",
        "plt.ylim(20, 45)\n",
        "plt.plot(range(len(temper1)), temper1, label='June')\n",
        "plt.plot(range(len(temper2)), temper2, label='March')\n",
        "plt.legend()\n",
        "plt.show()"
      ],
      "execution_count": 4,
      "outputs": [
        {
          "output_type": "display_data",
          "data": {
            "image/png": "[encoded data removed]",
            "text/plain": [
              "<Figure size 432x288 with 1 Axes>"
            ]
          },
          "metadata": {
            "tags": []
          }
        }
      ]
    }
  ]
}